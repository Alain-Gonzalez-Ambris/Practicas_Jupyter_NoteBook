{
 "cells": [
  {
   "cell_type": "markdown",
   "metadata": {},
   "source": [
    "## 1 - Odd or even\n",
    "Welcome a user then ask them for a number between 1 and 1000."
   ]
  },
  {
   "cell_type": "code",
   "execution_count": 1,
   "metadata": {},
   "outputs": [
    {
     "name": "stdout",
     "output_type": "stream",
     "text": [
      "The number I input is odd\n"
     ]
    }
   ],
   "source": [
    "num = int(input(\"Enter a number from 1 to 1000: \"))\n",
    "if num % 2 == 0:\n",
    "    print(\"The number I input is even\")\n",
    "else:\n",
    "    print(\"The number I input is odd\")"
   ]
  },
  {
   "cell_type": "markdown",
   "metadata": {},
   "source": [
    "## 2 - Mad Libs Game\n",
    "Ask the user what's on their mind."
   ]
  },
  {
   "cell_type": "code",
   "execution_count": null,
   "metadata": {},
   "outputs": [],
   "source": [
    "# All the questions that the program asks the user\n",
    "noun = input(\"Choose a noun: \")\n",
    "p_noun = input(\"Choose a plural noun: \")\n",
    "noun2 = input(\"Choose a noun: \")\n",
    "place = input(\"Name a place: \")\n",
    "adjective = input(\"Choose an adjective (Describing word): \")\n",
    "noun3 = input(\"Choose a noun: \")\n",
    "\n",
    "    # Displays the story based on the users input\n",
    "print (\"------------------------------------------\")\n",
    "print (\"Be kind to your\",noun,\"- footed\", p_noun)\n",
    "print (\"For a duck may be somebody's\", noun2,\",\")\n",
    "print (\"Be kind to your\",p_noun,\"in\",place)\n",
    "print (\"Where the weather is always\",adjective,\".\")\n",
    "print ()\n",
    "print (\"You may think that is this the\",noun3,\",\")\n",
    "print (\"Well it is.\")\n",
    "print (\"------------------------------------------\")"
   ]
  },
  {
   "cell_type": "markdown",
   "metadata": {},
   "source": [
    "## 3 - Word count\n",
    "Ask the user what's on their mind. Then after the user responds, count the number of words in the sentence and print that as an output."
   ]
  },
  {
   "cell_type": "code",
   "execution_count": null,
   "metadata": {},
   "outputs": [],
   "source": [
    "import csv\n",
    "import string\n",
    "\n",
    "translator = str.maketrans('', '', string.punctuation)\n",
    "\n",
    "word_count = {}\n",
    "text = open('Declaracion.txt').read()\n",
    "\n",
    "words = text.split()\n",
    "for word in words:\n",
    "    word = word.translate(translator).lower()\n",
    "    count = word_count.get(word, 0)\n",
    "    count += 1\n",
    "    word_count[word] = count\n",
    "\n",
    "word_count_list = sorted(word_count, key=word_count.get, reverse=True)\n",
    "for word in word_count_list[:10]:\n",
    "    print(word, word_count[word])\n",
    "\n",
    "output_file = open('words.csv', 'w')\n",
    "writer = csv.writer(output_file)\n",
    "writer.writerow(['word', 'count'])\n",
    "for word in word_count_list:\n",
    "    writer.writerow([word, word_count[word]])"
   ]
  },
  {
   "cell_type": "markdown",
   "metadata": {},
   "source": [
    "## 4 - Biography info\n",
    "Ask a user for their personal information one question at a time. Then check that the information they entered is valid. Finally, print a summary of all the information they entered back to them."
   ]
  },
  {
   "cell_type": "code",
   "execution_count": null,
   "metadata": {},
   "outputs": [],
   "source": [
    "# All the questions that the program asks the user\n",
    "name = input(\"Name: \")\n",
    "birthday = input(\"Birthday: \")\n",
    "address = input(\"Address: \")\n",
    "goals = input(\"Personal goals: \")\n",
    "\n",
    "\n",
    "print (\"PERSONAL INFORMATION\")\n",
    "print (\"Name: \",name)\n",
    "print (\"Date of birth: \", birthday)\n",
    "print (\"Address: \",address)\n",
    "print (\"Personal goals: \", goals)"
   ]
  },
  {
   "cell_type": "markdown",
   "metadata": {},
   "source": [
    "## 5 - What's my acronym?\n",
    "Ask the user to enter the full meaning of an organization or concept and you'll provide the acronym to the user."
   ]
  },
  {
   "cell_type": "code",
   "execution_count": null,
   "metadata": {},
   "outputs": [],
   "source": [
    "def fxn(stng): \n",
    "    oupt = stng[0] \n",
    "      \n",
    "    for i in range(1, len(stng)): \n",
    "        if stng[i-1] == ' ':    \n",
    "            oupt += stng[i] \n",
    "              \n",
    "    oupt = oupt.upper() \n",
    "    return oupt \n",
    "\n",
    "Organizztion = input(\"Organization name's: \")\n",
    "print(fxn(Organization))"
   ]
  },
  {
   "cell_type": "markdown",
   "metadata": {},
   "source": [
    "## 6 - Rock, Paper, Scissors\n",
    "This is a popular game played between two people. Each player gets to form one of three shapes using their hand:\n",
    "\n",
    "rock (a closed fist)\n",
    "paper (a flat hand)\n",
    "scissors (a fist with the index finger and middle finger extended, forming a V)"
   ]
  },
  {
   "cell_type": "code",
   "execution_count": null,
   "metadata": {},
   "outputs": [],
   "source": [
    "import random\n",
    "\n",
    "user_action = input(\"Enter (Rock, Paper, Scissors): \")\n",
    "possible_actions = [\"Rock\", \"Paper\", \"Scissors\"]\n",
    "computer_action = random.choice(possible_actions)\n",
    "print(f\"\\nYour choice was {user_action}, The computer chose {computer_action}.\\n\")\n",
    "\n",
    "if user_action == computer_action:\n",
    "    print(f\"Both players selected {user_action}. It's a tie...!\")\n",
    "elif user_action == \"Rock\":\n",
    "    if computer_action == \"Scissors\":\n",
    "        print(\"Rock destroys Scissors! You win!\")\n",
    "    else:\n",
    "        print(\"Paper covers the Rock! you lost!.\")\n",
    "elif user_action == \"Paper\":\n",
    "    if computer_action == \"Rock\":\n",
    "        print(\"Paper covers stone! You win!\")\n",
    "    else:\n",
    "        print(\"Scissors cut paper! you lost!\")\n",
    "elif user_action == \"Scissors\":\n",
    "    if computer_action == \"paper\":\n",
    "        print(\"Scissors cut paper! You win!\")\n",
    "    else:\n",
    "        print(\"Rock destroy scissors! you lost!\")"
   ]
  },
  {
   "cell_type": "markdown",
   "metadata": {},
   "source": [
    "## 7 - Guess the number\n",
    "You ask a user to guess a number between 1 and 50."
   ]
  },
  {
   "cell_type": "code",
   "execution_count": null,
   "metadata": {},
   "outputs": [],
   "source": [
    "import random\n",
    "numrandom = random.randint(1,50)\n",
    "\n",
    "choise = \"Y\"\n",
    "\n",
    "while choise == \"Y\" or choise == \"s\":\n",
    "    num = int(input(\"Try to guess the number between 1 and 50: \"))\n",
    "    \n",
    "    while num > 50 or num < 0:\n",
    "        num = int(input(\"Try to guess the number from 1 to 50: \"))\n",
    "        print (\"Choose a number from 1 to 50\")\n",
    "\n",
    "    if num == numrandom:\n",
    "        print(\"You guessed\")\n",
    "        choise = \"n\"\n",
    "    else:\n",
    "        print(\"you missed it\")\n",
    "        choise = input(\"Do you want to try again?: yes or no\")\n",
    "\n",
    "print (numrandom)"
   ]
  },
  {
   "cell_type": "markdown",
   "metadata": {},
   "source": [
    "## 8 - Is a palindrome\n",
    "Ask the user to give you five words. Then check if any of the five words is a palindrome."
   ]
  },
  {
   "cell_type": "code",
   "execution_count": null,
   "metadata": {},
   "outputs": [],
   "source": [
    "def convertInputString():\n",
    "    rawInput = input(\"\\nEnter a word, phrase or sentence \\nTo verify that it is palindrome: \") \n",
    "    rawString = rawInput.lower() \n",
    "    rawList = list(rawString) \n",
    "    print(rawInput)\n",
    "    return rawList\n",
    "\n",
    "def stripAnalphabetics(dirtyList): \n",
    "    analphabeticList = [\" \", \"-\", \".\", \",\", \":\", \";\", \"!\", \"?\", \"'\", \"\\\"\"] \n",
    "    for character in analphabeticList: \n",
    "        if character in dirtyList: \n",
    "            dirtyList.remove(character) \n",
    "            return stripAnalphabetics(dirtyList)\n",
    "    return dirtyList \n",
    "\n",
    "def runPalindromeCheck(straightList):\n",
    "    reversedList = straightList[::-1] \n",
    "    if reversedList == straightList: \n",
    "        return \"The text you entered is a palindrome!\" \n",
    "    else: \n",
    "        return \"The text you entered is not a palindrome.\" \n",
    "\n",
    "def main(): \n",
    "    print(\"\\nreviewing text\") \n",
    "    originalList = convertInputString()  \n",
    "    originalList = stripAnalphabetics(originalList) \n",
    "    palindromeCheck = runPalindromeCheck(originalList)\n",
    "    print(palindromeCheck)\n",
    "\n",
    "main() "
   ]
  },
  {
   "cell_type": "markdown",
   "metadata": {},
   "source": [
    "## 9 - Calculate the tip\n",
    "Your goal is to find out exactly how much tip you should give after receiving a service. In this scenario, ask for the total bill. Then display the tip for 18%, 20% and 25%.\n"
   ]
  },
  {
   "cell_type": "code",
   "execution_count": null,
   "metadata": {},
   "outputs": [],
   "source": [
    "total = int(input(\"Total of the account: \"))\n",
    "print(\"Tip of 18%: \",(total*0.18))\n",
    "print(\"Tip of 20%: \",(total*0.20))\n",
    "print(\"Tip of 25%: \",(total*0.25))"
   ]
  },
  {
   "cell_type": "markdown",
   "metadata": {},
   "source": [
    "## 10 - Email slicer\n",
    "Collect an email address from the user and then find out if the user has a custom domain name or a popular domain name."
   ]
  },
  {
   "cell_type": "code",
   "execution_count": null,
   "metadata": {},
   "outputs": [],
   "source": [
    "# Get user email address\n",
    "mail = input(\"What's your email address?: \").strip()\n",
    "\n",
    "# Slice out the user name\n",
    "user = mail[:mail.index(\"@\")]\n",
    "\n",
    "# Slice the domain name\n",
    "domain = mail[mail.index(\"@\")+1:]\n",
    "\n",
    "# Format message\n",
    "output = \"Your username is '{}' the domain name is  '{}'\".format(user,domain)\n",
    "\n",
    "# Display output message\n",
    "print(output)"
   ]
  },
  {
   "cell_type": "markdown",
   "metadata": {},
   "source": [
    "## 11 - Lyrics generator\n",
    "Ask a user to choose from a list of 10 songs. When the user does, you print out the lyrics to the song they selected."
   ]
  },
  {
   "cell_type": "code",
   "execution_count": null,
   "metadata": {},
   "outputs": [],
   "source": [
    "print(\"BLOOD UPON THE SNOW\")\n",
    "print(\"LAS MAÑANITAS\")\n",
    "print(\"THE NIGHT\")\n",
    "print()\n",
    "\n",
    "song = int(input(\"Select a song (1, 2 o 3)\"))\n",
    "\n",
    "if song == 1:\n",
    "    text = open('Blood_Upon_the_Snow.txt').read()\n",
    "elif song == 2:\n",
    "    text = open('Mañanitas.txt').read()\n",
    "else:\n",
    "    text = open('The_Night.txt').read()\n",
    "print (\"*************LETRA*************\")\n",
    "print(text)"
   ]
  }
 ],
 "metadata": {
  "kernelspec": {
   "display_name": "Python 3.10.7 64-bit",
   "language": "python",
   "name": "python3"
  },
  "language_info": {
   "codemirror_mode": {
    "name": "ipython",
    "version": 3
   },
   "file_extension": ".py",
   "mimetype": "text/x-python",
   "name": "python",
   "nbconvert_exporter": "python",
   "pygments_lexer": "ipython3",
   "version": "3.10.7"
  },
  "orig_nbformat": 4,
  "vscode": {
   "interpreter": {
    "hash": "a9587b6b7ecfb160fc6b5399946c5f9a93975bd75ebd45a57ca255c5bcecac95"
   }
  }
 },
 "nbformat": 4,
 "nbformat_minor": 2
}
